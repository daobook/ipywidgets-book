{
 "cells": [
  {
   "cell_type": "markdown",
   "metadata": {},
   "source": [
    "(jupyter:widget-list)=\n",
    "# 小部件清单\n",
    "\n",
    "参考 [examples/Widget List.ipynb](https://github.com/jupyter-widgets/ipywidgets/blob/8.0.0a4/docs/source/examples/Widget%20List.ipynb)"
   ]
  },
  {
   "cell_type": "code",
   "execution_count": 36,
   "metadata": {},
   "outputs": [],
   "source": [
    "import ipywidgets as widgets"
   ]
  },
  {
   "cell_type": "markdown",
   "metadata": {},
   "source": [
    "## 数字小部件\n",
    "\n",
    "有许多与 `ipywidgets` 一起分发的小部件被设计用来显示数值。存在用于显示有界和无界整数和浮点数的小部件。整数小部件与其对应的浮点部件共享类似的命名模式。通过将小部件名称中的 `Float` 替换为 `Int`，您可以找到等效的Integer。\n",
    "\n",
    "### `IntSlider`\n",
    "\n",
    "- 滑块显示为指定的初始 `value`。下界和上界由 `min` 和 `max` 定义，值可以根据 `step` 参数递增。\n",
    "- 滑块的标签由 `description` 参数定义\n",
    "- 滑块的 `orientation` 是“`'horizontal'`”（默认）或“`'vertical'`”\n",
    "- “`readout`” 显示它旁边滑块的当前值。选项为`True`（默认）或`False`\n",
    "- `readout_format` 指定用于表示滑块值的格式函数。默认值是 `'.2f'`"
   ]
  },
  {
   "cell_type": "code",
   "execution_count": 37,
   "metadata": {},
   "outputs": [
    {
     "output_type": "display_data",
     "data": {
      "text/plain": "IntSlider(value=7, continuous_update=False, description='Test:', max=10)",
      "application/vnd.jupyter.widget-view+json": {
       "version_major": 2,
       "version_minor": 0,
       "model_id": "6d162c7a62ac4e4491865493ec1ab64c"
      }
     },
     "metadata": {}
    }
   ],
   "source": [
    "widgets.IntSlider(\n",
    "    value=7,\n",
    "    min=0,\n",
    "    max=10,\n",
    "    step=1,\n",
    "    description='Test:',\n",
    "    disabled=False,\n",
    "    continuous_update=False,\n",
    "    orientation='horizontal',\n",
    "    readout=True,\n",
    "    readout_format='d'\n",
    ")"
   ]
  },
  {
   "cell_type": "markdown",
   "metadata": {},
   "source": [
    "### `FloatSlider`"
   ]
  },
  {
   "cell_type": "code",
   "execution_count": 38,
   "metadata": {},
   "outputs": [
    {
     "output_type": "display_data",
     "data": {
      "text/plain": "FloatSlider(value=7.5, continuous_update=False, description='Test:', max=10.0, readout_format='.1f')",
      "application/vnd.jupyter.widget-view+json": {
       "version_major": 2,
       "version_minor": 0,
       "model_id": "b9002211b65d48d6bad40d686a85808b"
      }
     },
     "metadata": {}
    }
   ],
   "source": [
    "widgets.FloatSlider(\n",
    "    value=7.5,\n",
    "    min=0,\n",
    "    max=10.0,\n",
    "    step=0.1,\n",
    "    description='Test:',\n",
    "    disabled=False,\n",
    "    continuous_update=False,\n",
    "    orientation='horizontal',\n",
    "    readout=True,\n",
    "    readout_format='.1f',\n",
    ")"
   ]
  },
  {
   "cell_type": "markdown",
   "metadata": {},
   "source": [
    "**垂直显示**的滑块示例："
   ]
  },
  {
   "cell_type": "code",
   "execution_count": 39,
   "metadata": {},
   "outputs": [
    {
     "output_type": "display_data",
     "data": {
      "text/plain": "FloatSlider(value=7.5, continuous_update=False, description='Test:', max=10.0, orientation='vertical', readout…",
      "application/vnd.jupyter.widget-view+json": {
       "version_major": 2,
       "version_minor": 0,
       "model_id": "0b5061adf3f441ed984e2844952b97d5"
      }
     },
     "metadata": {}
    }
   ],
   "source": [
    "widgets.FloatSlider(\n",
    "    value=7.5,\n",
    "    min=0,\n",
    "    max=10.0,\n",
    "    step=0.1,\n",
    "    description='Test:',\n",
    "    disabled=False,\n",
    "    continuous_update=False,\n",
    "    orientation='vertical',\n",
    "    readout=True,\n",
    "    readout_format='.1f',\n",
    ")"
   ]
  },
  {
   "cell_type": "markdown",
   "metadata": {},
   "source": [
    "### `FloatLogSlider`\n",
    "\n",
    "`FloatLogSlider` 有一个对数尺度，这使得拥有一个覆盖范围广泛的正量程的滑块变得很容易。`min` 和 `max` 指的是 `base` 的最小和最大指数，`value` 指的是滑块的实际值。"
   ]
  },
  {
   "cell_type": "code",
   "execution_count": 40,
   "metadata": {},
   "outputs": [
    {
     "output_type": "display_data",
     "data": {
      "text/plain": "FloatLogSlider(value=10.0, description='Log Slider', max=10.0, min=-10.0, step=0.2)",
      "application/vnd.jupyter.widget-view+json": {
       "version_major": 2,
       "version_minor": 0,
       "model_id": "c35fe5cfd4cc47e081c67a461c06e1c4"
      }
     },
     "metadata": {}
    }
   ],
   "source": [
    "widgets.FloatLogSlider(\n",
    "    value=10,\n",
    "    base=10,\n",
    "    min=-10,  # max exponent of base\n",
    "    max=10,  # min exponent of base\n",
    "    step=0.2,  # exponent step\n",
    "    description='Log Slider'\n",
    ")"
   ]
  },
  {
   "cell_type": "markdown",
   "metadata": {},
   "source": [
    "### `IntRangeSlider`"
   ]
  },
  {
   "cell_type": "code",
   "execution_count": 41,
   "metadata": {},
   "outputs": [
    {
     "output_type": "display_data",
     "data": {
      "text/plain": "IntRangeSlider(value=(5, 7), continuous_update=False, description='Test:', max=10)",
      "application/vnd.jupyter.widget-view+json": {
       "version_major": 2,
       "version_minor": 0,
       "model_id": "5a84a0375f3743e9b48c2779fa417f65"
      }
     },
     "metadata": {}
    }
   ],
   "source": [
    "widgets.IntRangeSlider(\n",
    "    value=[5, 7],\n",
    "    min=0,\n",
    "    max=10,\n",
    "    step=1,\n",
    "    description='Test:',\n",
    "    disabled=False,\n",
    "    continuous_update=False,\n",
    "    orientation='horizontal',\n",
    "    readout=True,\n",
    "    readout_format='d',\n",
    ")"
   ]
  },
  {
   "cell_type": "markdown",
   "metadata": {},
   "source": [
    "`FloatRangeSlider`"
   ]
  },
  {
   "cell_type": "code",
   "execution_count": 42,
   "metadata": {},
   "outputs": [
    {
     "output_type": "display_data",
     "data": {
      "text/plain": "FloatRangeSlider(value=(5.0, 7.5), continuous_update=False, description='Test:', max=10.0, readout_format='.1f…",
      "application/vnd.jupyter.widget-view+json": {
       "version_major": 2,
       "version_minor": 0,
       "model_id": "b5afc618b7eb40b18168c64a0cb7029b"
      }
     },
     "metadata": {}
    }
   ],
   "source": [
    "widgets.FloatRangeSlider(\n",
    "    value=[5, 7.5],\n",
    "    min=0,\n",
    "    max=10.0,\n",
    "    step=0.1,\n",
    "    description='Test:',\n",
    "    disabled=False,\n",
    "    continuous_update=False,\n",
    "    orientation='horizontal',\n",
    "    readout=True,\n",
    "    readout_format='.1f',\n",
    ")"
   ]
  },
  {
   "cell_type": "markdown",
   "metadata": {},
   "source": [
    "`IntProgress`"
   ]
  },
  {
   "cell_type": "code",
   "execution_count": 43,
   "metadata": {},
   "outputs": [
    {
     "output_type": "display_data",
     "data": {
      "text/plain": "IntProgress(value=7, description='Loading:', max=10, style=ProgressStyle(bar_color='maroon'))",
      "application/vnd.jupyter.widget-view+json": {
       "version_major": 2,
       "version_minor": 0,
       "model_id": "40b6662c029c48a49a4bf3cdad57f182"
      }
     },
     "metadata": {}
    }
   ],
   "source": [
    "widgets.IntProgress(\n",
    "    value=7,\n",
    "    min=0,\n",
    "    max=10,\n",
    "    description='Loading:',\n",
    "    bar_style='',  # 'success', 'info', 'warning', 'danger' or ''\n",
    "    style={'bar_color': 'maroon'},\n",
    "    orientation='horizontal'\n",
    ")"
   ]
  },
  {
   "cell_type": "markdown",
   "metadata": {},
   "source": [
    "`FloatProgress`"
   ]
  },
  {
   "cell_type": "code",
   "execution_count": 44,
   "metadata": {},
   "outputs": [
    {
     "output_type": "display_data",
     "data": {
      "text/plain": "FloatProgress(value=7.5, bar_style='info', description='Loading:', max=10.0, style=ProgressStyle(bar_color='#f…",
      "application/vnd.jupyter.widget-view+json": {
       "version_major": 2,
       "version_minor": 0,
       "model_id": "6ea46032dad64c738a35e962d0481210"
      }
     },
     "metadata": {}
    }
   ],
   "source": [
    "widgets.FloatProgress(\n",
    "    value=7.5,\n",
    "    min=0,\n",
    "    max=10.0,\n",
    "    description='Loading:',\n",
    "    bar_style='info',\n",
    "    style={'bar_color': '#ffff00'},\n",
    "    orientation='horizontal'\n",
    ")"
   ]
  },
  {
   "cell_type": "markdown",
   "metadata": {},
   "source": [
    "当用户按下 enter 键时，数字文本框对数据施加了一些限制（范围、整数）。\n",
    "\n",
    "### `BoundedIntText`"
   ]
  },
  {
   "cell_type": "code",
   "execution_count": 45,
   "metadata": {},
   "outputs": [
    {
     "output_type": "display_data",
     "data": {
      "text/plain": "BoundedFloatText(value=7.5, description='Text:', max=10.0, step=0.1)",
      "application/vnd.jupyter.widget-view+json": {
       "version_major": 2,
       "version_minor": 0,
       "model_id": "c651ea6d539e42a580c3776c1f091ce7"
      }
     },
     "metadata": {}
    }
   ],
   "source": [
    "widgets.BoundedFloatText(\n",
    "    value=7.5,\n",
    "    min=0,\n",
    "    max=10.0,\n",
    "    step=0.1,\n",
    "    description='Text:',\n",
    "    disabled=False\n",
    ")"
   ]
  },
  {
   "cell_type": "markdown",
   "metadata": {},
   "source": [
    "### `IntText`"
   ]
  },
  {
   "cell_type": "code",
   "execution_count": 46,
   "metadata": {},
   "outputs": [
    {
     "output_type": "display_data",
     "data": {
      "text/plain": "IntText(value=7, description='Any:')",
      "application/vnd.jupyter.widget-view+json": {
       "version_major": 2,
       "version_minor": 0,
       "model_id": "b5909c6aef1b4a759a9d140a6f343927"
      }
     },
     "metadata": {}
    }
   ],
   "source": [
    "widgets.IntText(\n",
    "    value=7,\n",
    "    description='Any:',\n",
    "    disabled=False\n",
    ")"
   ]
  },
  {
   "cell_type": "markdown",
   "metadata": {},
   "source": [
    "`FloatText`"
   ]
  },
  {
   "cell_type": "code",
   "execution_count": 47,
   "metadata": {},
   "outputs": [
    {
     "output_type": "display_data",
     "data": {
      "text/plain": "FloatText(value=7.5, description='Any:')",
      "application/vnd.jupyter.widget-view+json": {
       "version_major": 2,
       "version_minor": 0,
       "model_id": "6659e5ec4fee4fd5aa845d4c07d09e31"
      }
     },
     "metadata": {}
    }
   ],
   "source": [
    "widgets.FloatText(\n",
    "    value=7.5,\n",
    "    description='Any:',\n",
    "    disabled=False\n",
    ")"
   ]
  },
  {
   "cell_type": "markdown",
   "metadata": {},
   "source": [
    "## 布尔小部件\n",
    "\n",
    "有三个小部件被设计用来显示布尔值。\n",
    "\n",
    "### `ToggleButton`"
   ]
  },
  {
   "cell_type": "code",
   "execution_count": 48,
   "metadata": {},
   "outputs": [
    {
     "output_type": "display_data",
     "data": {
      "text/plain": "ToggleButton(value=False, description='Click me', icon='check', tooltip='Description')",
      "application/vnd.jupyter.widget-view+json": {
       "version_major": 2,
       "version_minor": 0,
       "model_id": "8aa8f649dad740a9bc12503ab15cf26b"
      }
     },
     "metadata": {}
    }
   ],
   "source": [
    "widgets.ToggleButton(\n",
    "    value=False,\n",
    "    description='Click me',\n",
    "    disabled=False,\n",
    "    button_style='',  # 'success', 'info', 'warning', 'danger' or ''\n",
    "    tooltip='Description',\n",
    "    icon='check'  # (FontAwesome names without the `fa-` prefix)\n",
    ")"
   ]
  },
  {
   "cell_type": "markdown",
   "metadata": {},
   "source": [
    "### `Checkbox`\n",
    "\n",
    "- `value` 指定复选框的值\n",
    "- `indent` 参数放置一个缩进复选框，并与其他控件对齐。选项为 `True`（默认）或 `False`。"
   ]
  },
  {
   "cell_type": "code",
   "execution_count": 49,
   "metadata": {},
   "outputs": [
    {
     "output_type": "display_data",
     "data": {
      "text/plain": "Checkbox(value=False, description='Check me', indent=False)",
      "application/vnd.jupyter.widget-view+json": {
       "version_major": 2,
       "version_minor": 0,
       "model_id": "77f608a4539f471badd4f0a66c71902c"
      }
     },
     "metadata": {}
    }
   ],
   "source": [
    "widgets.Checkbox(\n",
    "    value=False,\n",
    "    description='Check me',\n",
    "    disabled=False,\n",
    "    indent=False\n",
    ")"
   ]
  },
  {
   "cell_type": "markdown",
   "metadata": {},
   "source": [
    "### `Valid`\n",
    "\n",
    "`valid` 的小部件提供一个只读指示器。"
   ]
  },
  {
   "cell_type": "code",
   "execution_count": 50,
   "metadata": {},
   "outputs": [
    {
     "output_type": "display_data",
     "data": {
      "text/plain": "Valid(value=False, description='Valid!')",
      "application/vnd.jupyter.widget-view+json": {
       "version_major": 2,
       "version_minor": 0,
       "model_id": "a2c7c96d0b70400d898bfe65f7f6bf0f"
      }
     },
     "metadata": {}
    }
   ],
   "source": [
    "widgets.Valid(\n",
    "    value=False,\n",
    "    description='Valid!',\n",
    ")"
   ]
  },
  {
   "cell_type": "markdown",
   "metadata": {},
   "source": [
    "## 选择小部件\n",
    "\n",
    "有几个小部件可用于显示单个选择列表，还有两个小部件可用于选择多个值。它们都继承自同一个基类。您可以通过传递一个列表（选项是 `(label, value)` 对，或者通过调用 `str` 派生标签的值）来指定可选选项的枚举。\n",
    "\n",
    "### `Dropdown`"
   ]
  },
  {
   "cell_type": "code",
   "execution_count": 51,
   "metadata": {},
   "outputs": [
    {
     "output_type": "display_data",
     "data": {
      "text/plain": "Dropdown(description='Number:', index=1, options=('1', '2', '3'), value='2')",
      "application/vnd.jupyter.widget-view+json": {
       "version_major": 2,
       "version_minor": 0,
       "model_id": "9cf7309458954611a91bf8bedb3b2b7c"
      }
     },
     "metadata": {}
    }
   ],
   "source": [
    "widgets.Dropdown(\n",
    "    options=['1', '2', '3'],\n",
    "    value='2',\n",
    "    description='Number:',\n",
    "    disabled=False,\n",
    ")"
   ]
  },
  {
   "cell_type": "markdown",
   "metadata": {},
   "source": [
    "下面的代码也是有效的，在下拉列表中显示单词 `'One', 'Two', 'Three'`，但返回值 `1, 2, 3`。"
   ]
  },
  {
   "cell_type": "code",
   "execution_count": 52,
   "metadata": {},
   "outputs": [
    {
     "output_type": "display_data",
     "data": {
      "text/plain": "Dropdown(description='Number:', index=1, options=(('One', 1), ('Two', 2), ('Three', 3)), value=2)",
      "application/vnd.jupyter.widget-view+json": {
       "version_major": 2,
       "version_minor": 0,
       "model_id": "cf097066f7b64d12babce1460a7a6d0a"
      }
     },
     "metadata": {}
    }
   ],
   "source": [
    "widgets.Dropdown(\n",
    "    options=[('One', 1), ('Two', 2), ('Three', 3)],\n",
    "    value=2,\n",
    "    description='Number:',\n",
    ")"
   ]
  },
  {
   "cell_type": "markdown",
   "metadata": {},
   "source": [
    "### `RadioButtons`"
   ]
  },
  {
   "cell_type": "code",
   "execution_count": 53,
   "metadata": {},
   "outputs": [
    {
     "output_type": "display_data",
     "data": {
      "text/plain": "RadioButtons(description='Pizza topping:', options=('pepperoni', 'pineapple', 'anchovies'), value='pepperoni')",
      "application/vnd.jupyter.widget-view+json": {
       "version_major": 2,
       "version_minor": 0,
       "model_id": "529caed0e14c494e94f597d3243446cc"
      }
     },
     "metadata": {}
    }
   ],
   "source": [
    "widgets.RadioButtons(\n",
    "    options=['pepperoni', 'pineapple', 'anchovies'],\n",
    "    #    value='pineapple', # Defaults to 'pineapple'\n",
    "    #    layout={'width': 'max-content'}, # If the items' names are long\n",
    "    description='Pizza topping:',\n",
    "    disabled=False\n",
    ")"
   ]
  },
  {
   "cell_type": "markdown",
   "metadata": {},
   "source": [
    "### 具有动态布局和非常长的标签"
   ]
  },
  {
   "cell_type": "code",
   "execution_count": 54,
   "metadata": {},
   "outputs": [
    {
     "output_type": "display_data",
     "data": {
      "text/plain": "Box(children=(Label(value='Pizza topping with a very long label:'), RadioButtons(layout=Layout(width='max-cont…",
      "application/vnd.jupyter.widget-view+json": {
       "version_major": 2,
       "version_minor": 0,
       "model_id": "b9c1935599f24ff4a202bdf17ad488fd"
      }
     },
     "metadata": {}
    }
   ],
   "source": [
    "widgets.Box(\n",
    "    [\n",
    "        widgets.Label(value='Pizza topping with a very long label:'),\n",
    "        widgets.RadioButtons(\n",
    "            options=[\n",
    "                'pepperoni',\n",
    "                'pineapple',\n",
    "                'anchovies',\n",
    "                'and the long name that will fit fine and the long name that will fit fine and the long name that will fit fine '\n",
    "            ],\n",
    "            layout={'width': 'max-content'}\n",
    "        )\n",
    "    ]\n",
    ")"
   ]
  },
  {
   "cell_type": "markdown",
   "metadata": {},
   "source": [
    "### `Select`"
   ]
  },
  {
   "cell_type": "code",
   "execution_count": 55,
   "metadata": {},
   "outputs": [
    {
     "output_type": "display_data",
     "data": {
      "text/plain": "Select(description='OS:', index=2, options=('Linux', 'Windows', 'OSX'), value='OSX')",
      "application/vnd.jupyter.widget-view+json": {
       "version_major": 2,
       "version_minor": 0,
       "model_id": "dc0b37952bb049e7b97cb21508c6d07d"
      }
     },
     "metadata": {}
    }
   ],
   "source": [
    "widgets.Select(\n",
    "    options=['Linux', 'Windows', 'OSX'],\n",
    "    value='OSX',\n",
    "    # rows=10,\n",
    "    description='OS:',\n",
    "    disabled=False\n",
    ")"
   ]
  },
  {
   "cell_type": "markdown",
   "metadata": {},
   "source": [
    "### `SelectionSlider`\n",
    "\n",
    "`value`、`index` 和 `label` 键是所选最小值和最大值的二元组。选项必须是非空的。"
   ]
  },
  {
   "cell_type": "code",
   "execution_count": 56,
   "metadata": {},
   "outputs": [
    {
     "output_type": "display_data",
     "data": {
      "text/plain": "SelectionRangeSlider(description='Months (2015)', index=(0, 11), options=(('Jan', datetime.date(2015, 1, 1)), …",
      "application/vnd.jupyter.widget-view+json": {
       "version_major": 2,
       "version_minor": 0,
       "model_id": "470dd2802ff74ec9877e20069ae82053"
      }
     },
     "metadata": {}
    }
   ],
   "source": [
    "import datetime\n",
    "dates = [datetime.date(2015, i, 1) for i in range(1, 13)]\n",
    "options = [(i.strftime('%b'), i) for i in dates]\n",
    "widgets.SelectionRangeSlider(\n",
    "    options=options,\n",
    "    index=(0, 11),\n",
    "    description='Months (2015)',\n",
    "    disabled=False\n",
    ")"
   ]
  },
  {
   "cell_type": "markdown",
   "metadata": {},
   "source": [
    "### `ToggleButtons`"
   ]
  },
  {
   "cell_type": "code",
   "execution_count": 57,
   "metadata": {},
   "outputs": [
    {
     "output_type": "display_data",
     "data": {
      "text/plain": "ToggleButtons(description='Speed:', options=('Slow', 'Regular', 'Fast'), tooltips=('Description of slow', 'Des…",
      "application/vnd.jupyter.widget-view+json": {
       "version_major": 2,
       "version_minor": 0,
       "model_id": "93bdf4bc7df9454c934319048164688c"
      }
     },
     "metadata": {}
    }
   ],
   "source": [
    "widgets.ToggleButtons(\n",
    "    options=['Slow', 'Regular', 'Fast'],\n",
    "    description='Speed:',\n",
    "    disabled=False,\n",
    "    button_style='',  # 'success', 'info', 'warning', 'danger' or ''\n",
    "    tooltips=['Description of slow',\n",
    "              'Description of regular', 'Description of fast'],\n",
    "    #     icons=['check'] * 3\n",
    ")"
   ]
  },
  {
   "cell_type": "markdown",
   "metadata": {},
   "source": [
    "### `SelectMultiple`\n",
    "\n",
    "多个值可以选择与 shift 和/或 ctrl（或命令）按下鼠标单击或方向键。"
   ]
  },
  {
   "cell_type": "code",
   "execution_count": 58,
   "metadata": {},
   "outputs": [
    {
     "output_type": "display_data",
     "data": {
      "text/plain": "SelectMultiple(description='Fruits', index=(1,), options=('Apples', 'Oranges', 'Pears'), value=('Oranges',))",
      "application/vnd.jupyter.widget-view+json": {
       "version_major": 2,
       "version_minor": 0,
       "model_id": "1c0f65652fa04b9287a4f0ed63d90cb9"
      }
     },
     "metadata": {}
    }
   ],
   "source": [
    "widgets.SelectMultiple(\n",
    "    options=['Apples', 'Oranges', 'Pears'],\n",
    "    value=['Oranges'],\n",
    "    # rows=10,\n",
    "    description='Fruits',\n",
    "    disabled=False\n",
    ")"
   ]
  },
  {
   "cell_type": "markdown",
   "metadata": {},
   "source": [
    "## 字符串小部件\n",
    "\n",
    "有几个小部件可以用来显示字符串值。`Text`、`Textarea` 和 `Combobox` 小部件接受输入。`HTML` 和 `HTMLMath` 小部件将字符串显示为 HTML（`HTMLMath` 也渲染为 math）。`Label` 小部件可用于构造自定义控件标签。\n",
    "\n",
    "### `Text`"
   ]
  },
  {
   "cell_type": "code",
   "execution_count": 59,
   "metadata": {},
   "outputs": [
    {
     "output_type": "display_data",
     "data": {
      "text/plain": "Text(value='Hello World', description='String:', placeholder='Type something')",
      "application/vnd.jupyter.widget-view+json": {
       "version_major": 2,
       "version_minor": 0,
       "model_id": "281bea588c634a58960a4a6c44406a3d"
      }
     },
     "metadata": {}
    }
   ],
   "source": [
    "widgets.Text(\n",
    "    value='Hello World',\n",
    "    placeholder='Type something',\n",
    "    description='String:',\n",
    "    disabled=False\n",
    ")"
   ]
  },
  {
   "cell_type": "markdown",
   "metadata": {},
   "source": [
    "### `Textarea`"
   ]
  },
  {
   "cell_type": "code",
   "execution_count": 60,
   "metadata": {},
   "outputs": [
    {
     "output_type": "display_data",
     "data": {
      "text/plain": "Textarea(value='Hello World', description='String:', placeholder='Type something')",
      "application/vnd.jupyter.widget-view+json": {
       "version_major": 2,
       "version_minor": 0,
       "model_id": "8bc1fd395ba94ec7af3c35d4d64f5c75"
      }
     },
     "metadata": {}
    }
   ],
   "source": [
    "widgets.Textarea(\n",
    "    value='Hello World',\n",
    "    placeholder='Type something',\n",
    "    description='String:',\n",
    "    disabled=False\n",
    ")"
   ]
  },
  {
   "cell_type": "markdown",
   "metadata": {},
   "source": [
    "### `Combobox`"
   ]
  },
  {
   "cell_type": "code",
   "execution_count": 61,
   "metadata": {},
   "outputs": [
    {
     "output_type": "display_data",
     "data": {
      "text/plain": "Combobox(value='', description='Combobox:', ensure_option=True, options=('Paul', 'John', 'George', 'Ringo'), p…",
      "application/vnd.jupyter.widget-view+json": {
       "version_major": 2,
       "version_minor": 0,
       "model_id": "b0d188b2d3fe49e5892794493689ef61"
      }
     },
     "metadata": {}
    }
   ],
   "source": [
    "widgets.Combobox(\n",
    "    # value='John',\n",
    "    placeholder='Choose Someone',\n",
    "    options=['Paul', 'John', 'George', 'Ringo'],\n",
    "    description='Combobox:',\n",
    "    ensure_option=True,\n",
    "    disabled=False\n",
    ")"
   ]
  },
  {
   "cell_type": "markdown",
   "metadata": {},
   "source": [
    "### `Password`\n",
    "\n",
    "`Password` 小部件将用户输入隐藏在屏幕上。这个小部件不是收集敏感信息的安全方式，因为：\n",
    "\n",
    "- `Password` 小部件的内容不加密传输。\n",
    "- 如果小部件状态保存在笔记本中，`Password` 小部件的内容将以纯文本形式存储。"
   ]
  },
  {
   "cell_type": "code",
   "execution_count": 62,
   "metadata": {},
   "outputs": [
    {
     "output_type": "display_data",
     "data": {
      "text/plain": "Password(description='Password:', placeholder='Enter password')",
      "application/vnd.jupyter.widget-view+json": {
       "version_major": 2,
       "version_minor": 0,
       "model_id": "168f5b64f4b340e0aaed3a1b9a0ade7e"
      }
     },
     "metadata": {}
    }
   ],
   "source": [
    "widgets.Password(\n",
    "    value='password',\n",
    "    placeholder='Enter password',\n",
    "    description='Password:',\n",
    "    disabled=False\n",
    ")"
   ]
  },
  {
   "cell_type": "markdown",
   "metadata": {},
   "source": [
    "### `Label`\n",
    "\n",
    "如果需要在控件旁边使用与内置控件描述相似的样式构建自定义描述，`Label` 小部件非常有用。"
   ]
  },
  {
   "cell_type": "code",
   "execution_count": 63,
   "metadata": {},
   "outputs": [
    {
     "output_type": "display_data",
     "data": {
      "text/plain": "HBox(children=(Label(value='The $m$ in $E=mc^2$:'), FloatSlider(value=0.0)))",
      "application/vnd.jupyter.widget-view+json": {
       "version_major": 2,
       "version_minor": 0,
       "model_id": "569d1bc19b73431c90ccde8653e63041"
      }
     },
     "metadata": {}
    }
   ],
   "source": [
    "widgets.HBox([widgets.Label(value=\"The $m$ in $E=mc^2$:\"), widgets.FloatSlider()])"
   ]
  },
  {
   "cell_type": "markdown",
   "metadata": {},
   "source": [
    "### `HTML`"
   ]
  },
  {
   "cell_type": "code",
   "execution_count": 64,
   "metadata": {},
   "outputs": [
    {
     "output_type": "display_data",
     "data": {
      "text/plain": "HTML(value='Hello <b>World</b>', description='Some HTML', placeholder='Some HTML')",
      "application/vnd.jupyter.widget-view+json": {
       "version_major": 2,
       "version_minor": 0,
       "model_id": "683e3b33639047c9836bd0fc994e1bc7"
      }
     },
     "metadata": {}
    }
   ],
   "source": [
    "widgets.HTML(\n",
    "    value=\"Hello <b>World</b>\",\n",
    "    placeholder='Some HTML',\n",
    "    description='Some HTML',\n",
    ")"
   ]
  },
  {
   "cell_type": "markdown",
   "metadata": {},
   "source": [
    "### `HTMLMath`"
   ]
  },
  {
   "cell_type": "code",
   "execution_count": 65,
   "metadata": {},
   "outputs": [
    {
     "output_type": "display_data",
     "data": {
      "text/plain": "HTMLMath(value='Some math and <i>HTML</i>: \\\\(x^2\\\\) and $$\\\\frac{x+1}{x-1}$$', description='Some HTML', place…",
      "application/vnd.jupyter.widget-view+json": {
       "version_major": 2,
       "version_minor": 0,
       "model_id": "ee55d33cbc4d471bbe794a7c3263ff83"
      }
     },
     "metadata": {}
    }
   ],
   "source": [
    "widgets.HTMLMath(\n",
    "    value=r\"Some math and <i>HTML</i>: \\(x^2\\) and $$\\frac{x+1}{x-1}$$\",\n",
    "    placeholder='Some HTML',\n",
    "    description='Some HTML',\n",
    ")"
   ]
  },
  {
   "cell_type": "markdown",
   "metadata": {},
   "source": [
    "## `Image`"
   ]
  },
  {
   "cell_type": "code",
   "execution_count": 66,
   "metadata": {},
   "outputs": [
    {
     "output_type": "display_data",
     "data": {
      "text/plain": "Image(value=b'\\x89PNG\\r\\n\\x1a\\n\\x00\\x00\\x00\\rIHDR\\x00\\x00\\x012\\x00\\x00\\x01\\xb1\\x08\\x06\\x00\\x00\\x00\\xe1\\xe2:\\xb…",
      "application/vnd.jupyter.widget-view+json": {
       "version_major": 2,
       "version_minor": 0,
       "model_id": "d9c9fb4eb91d42e79c872d9e9fcf8529"
      }
     },
     "metadata": {}
    }
   ],
   "source": [
    "from urllib.request import urlopen\n",
    "\n",
    "file = urlopen(\"https://media.githubusercontent.com/media/xinetzone/ipywidgets-media/main/images/WidgetArch.png\")\n",
    "image = file.read()\n",
    "widgets.Image(\n",
    "    value=image,\n",
    "    format='png',\n",
    "    width=300,\n",
    "    height=400,\n",
    ")"
   ]
  },
  {
   "cell_type": "markdown",
   "metadata": {},
   "source": [
    "## `Button`"
   ]
  },
  {
   "cell_type": "code",
   "execution_count": 67,
   "metadata": {},
   "outputs": [
    {
     "output_type": "display_data",
     "data": {
      "text/plain": "Button(description='Click me', icon='check', style=ButtonStyle(), tooltip='Click me')",
      "application/vnd.jupyter.widget-view+json": {
       "version_major": 2,
       "version_minor": 0,
       "model_id": "3b932a01aa444c1fb8a4fa9176219378"
      }
     },
     "metadata": {}
    }
   ],
   "source": [
    "button = widgets.Button(\n",
    "    description='Click me',\n",
    "    disabled=False,\n",
    "    button_style='',  # 'success', 'info', 'warning', 'danger' or ''\n",
    "    tooltip='Click me',\n",
    "    icon='check'  # (FontAwesome names without the `fa-` prefix)\n",
    ")\n",
    "button"
   ]
  },
  {
   "cell_type": "markdown",
   "metadata": {},
   "source": [
    "`icon` 属性可以用来定义一个图标；见 [fontawesome](https://fontawesome.com/icons) 页面可用的图标。可以使用 `button.on_click(foo)` 注册回调函数 `foo`。当按钮被点击时，函数 `foo` 将被调用，按钮实例是它的唯一参数。\n",
    "\n",
    "## `Output`\n",
    "\n",
    "`Output` 小部件可以捕获和显示 `stdout`、`stderr` 和 [IPython 生成的丰富输出](http://ipython.readthedocs.io/en/stable/api/generated/IPython.display.html#module-IPython.display)。详细的文档请参见 [小部件示例输出](jupyter:output-widget)。\n",
    "\n",
    "## `Play`（动画）小部件\n",
    "\n",
    "`Play` 小部件通过以一定的速度迭代一个整数序列来执行动画是很有用的。下面的滑块的值链接到 `Play`。"
   ]
  },
  {
   "cell_type": "code",
   "execution_count": 68,
   "metadata": {},
   "outputs": [
    {
     "output_type": "display_data",
     "data": {
      "text/plain": "HBox(children=(Play(value=50, description='Press play', interval=500), IntSlider(value=0)))",
      "application/vnd.jupyter.widget-view+json": {
       "version_major": 2,
       "version_minor": 0,
       "model_id": "5dd0274606464b9b97239bdbcaefd6e0"
      }
     },
     "metadata": {}
    }
   ],
   "source": [
    "play = widgets.Play(\n",
    "    value=50,\n",
    "    min=0,\n",
    "    max=100,\n",
    "    step=1,\n",
    "    interval=500,\n",
    "    description=\"Press play\",\n",
    "    disabled=False\n",
    ")\n",
    "slider = widgets.IntSlider()\n",
    "widgets.jslink((play, 'value'), (slider, 'value'))\n",
    "widgets.HBox([play, slider])"
   ]
  },
  {
   "cell_type": "markdown",
   "metadata": {},
   "source": [
    "## `DatePicker`\n",
    "\n",
    "日期选择器小部件可以在 Chrome、Firefox 和 IE Edge 中工作，但目前不能在 Safari 中工作，因为它不支持 HTML 日期输入字段。"
   ]
  },
  {
   "cell_type": "code",
   "execution_count": 69,
   "metadata": {},
   "outputs": [
    {
     "output_type": "display_data",
     "data": {
      "text/plain": "DatePicker(value=None, description='Pick a Date')",
      "application/vnd.jupyter.widget-view+json": {
       "version_major": 2,
       "version_minor": 0,
       "model_id": "4d5f3216c2d342adb5e33ea81bdcff59"
      }
     },
     "metadata": {}
    }
   ],
   "source": [
    "widgets.DatePicker(\n",
    "    description='Pick a Date',\n",
    "    disabled=False\n",
    ")"
   ]
  },
  {
   "cell_type": "markdown",
   "metadata": {},
   "source": [
    "## `ColorPicker`"
   ]
  },
  {
   "cell_type": "code",
   "execution_count": 70,
   "metadata": {},
   "outputs": [
    {
     "output_type": "display_data",
     "data": {
      "text/plain": "ColorPicker(value='blue', description='Pick a color')",
      "application/vnd.jupyter.widget-view+json": {
       "version_major": 2,
       "version_minor": 0,
       "model_id": "c313d5aa49aa47218a01c6d2c7edb0fa"
      }
     },
     "metadata": {}
    }
   ],
   "source": [
    "widgets.ColorPicker(\n",
    "    concise=False,\n",
    "    description='Pick a color',\n",
    "    value='blue',\n",
    "    disabled=False\n",
    ")"
   ]
  },
  {
   "cell_type": "markdown",
   "metadata": {},
   "source": [
    "## `FileUpload`\n",
    "\n",
    "`FileUpload` 允许将任何类型的文件上传到内核的内存中。"
   ]
  },
  {
   "cell_type": "code",
   "execution_count": 71,
   "metadata": {},
   "outputs": [
    {
     "output_type": "display_data",
     "data": {
      "text/plain": "FileUpload(value={}, description='Upload')",
      "application/vnd.jupyter.widget-view+json": {
       "version_major": 2,
       "version_minor": 0,
       "model_id": "733525a2cb594c62b8179d91e7a610c9"
      }
     },
     "metadata": {}
    }
   ],
   "source": [
    "widgets.FileUpload(\n",
    "    accept='',  # Accepted file extension e.g. '.txt', '.pdf', 'image/*', 'image/*,.pdf'\n",
    "    multiple=False  # True to accept multiple files upload else False\n",
    ")"
   ]
  },
  {
   "cell_type": "markdown",
   "metadata": {},
   "source": [
    "upload 小部件公开一个包含所上传文件的 `value` 属性。`value` 属性是一个元组，包含每个上传文件的字典。例如：\n",
    "\n",
    "```python\n",
    "uploader = widgets.FileUpload()\n",
    "display(uploader)\n",
    "\n",
    "# upload something...\n",
    "\n",
    "# once a file is uploaded, use the `.value` attribute to retrieve the content:\n",
    "uploader.value\n",
    "# => (\n",
    "# =>   {\n",
    "# =>     'name': 'example.txt',\n",
    "# =>     'type': 'text/plain',\n",
    "# =>     'size': 36,\n",
    "# =>     'last_modified': datetime.datetime(2020, 1, 9, 15, 58, 43, 321000, tzinfo=datetime.timezone.utc),\n",
    "# =>     'content': <memory at 0x10c1b37c8>\n",
    "# =>   },\n",
    "# => )\n",
    "```\n",
    "\n",
    "字典中的条目可以像任何字典一样作为条目访问，也可以作为属性访问：\n",
    "\n",
    "```python\n",
    "uploaded_file = uploader.value[0]\n",
    "uploaded_file[\"size\"]\n",
    "#=> 36\n",
    "uploaded_file.size\n",
    "#=> 36\n",
    "```\n",
    "\n",
    "上传文件的内容在 `content` 键的值中。它们是一个 [内存视图](https://docs.python.org/3/library/stdtypes.html#memory-views)：\n",
    "\n",
    "```python\n",
    "uploaded_file.content\n",
    "#=> <memory at 0x10c1b37c8>\n",
    "```\n",
    "\n",
    "可以将内容提取为字节：\n",
    "\n",
    "```python\n",
    "uploaded_file.content.tobytes()\n",
    "#=> b'This is the content of example.txt.\\n'\n",
    "```\n",
    "\n",
    "如果文件是文本文件，可以通过解码得到字符串形式的内容：\n",
    "\n",
    "```python\n",
    "import codecs\n",
    "codecs.decode(uploaded_file.content, encoding=\"utf-8\")\n",
    "#=> 'This is the content of example.txt.\\n'\n",
    "```\n",
    "\n",
    "您可以将上传的文件从内核保存到文件系统：\n",
    "\n",
    "```python\n",
    "with open(\"./saved-output.txt\", \"wb\") as fp:\n",
    "    fp.write(uploaded_file.content)\n",
    "```\n",
    "\n",
    "要将上传的文件转换为 Pandas 数据帧，你可以使用 [BytesIO 对象](https://docs.python.org/3/library/io.html#binary-i-o)：\n",
    "\n",
    "```python\n",
    "import io\n",
    "import pandas as pd\n",
    "pd.read_csv(io.BytesIO(uploaded_file.content))\n",
    "```\n",
    "\n",
    "如果上传的文件是一个图像，你可以用一个图像小部件来可视化它：\n",
    "\n",
    "```python\n",
    "widgets.Image(value=uploaded_file.content.tobytes())\n",
    "```\n",
    "\n",
    "```{warning}\n",
    "当使用 `FileUpload` 小部件时，如果小部件状态被保存，上传的文件内容可能被保存在笔记本中。\n",
    "```\n",
    "\n",
    "## `Controller`\n",
    "\n",
    "`Controller` 允许游戏控制器用作输入设备。"
   ]
  },
  {
   "cell_type": "code",
   "execution_count": 72,
   "metadata": {},
   "outputs": [
    {
     "output_type": "display_data",
     "data": {
      "text/plain": "Controller()",
      "application/vnd.jupyter.widget-view+json": {
       "version_major": 2,
       "version_minor": 0,
       "model_id": "ad0eae0f954c4f53bd08a06a988528f9"
      }
     },
     "metadata": {}
    }
   ],
   "source": [
    "widgets.Controller(\n",
    "    index=0,\n",
    ")"
   ]
  },
  {
   "cell_type": "markdown",
   "metadata": {},
   "source": [
    "## 容器/布局小部件\n",
    "\n",
    "这些小部件用于容纳其他小部件（称为子部件 `children`）。每个都有一个 `children` 属性，可以在小部件创建时或以后设置。\n",
    "\n",
    "### `Box`"
   ]
  },
  {
   "cell_type": "code",
   "execution_count": 73,
   "metadata": {},
   "outputs": [
    {
     "output_type": "display_data",
     "data": {
      "text/plain": "Box(children=(Label(value='0'), Label(value='1'), Label(value='2'), Label(value='3')))",
      "application/vnd.jupyter.widget-view+json": {
       "version_major": 2,
       "version_minor": 0,
       "model_id": "d6f2f8003527489f9859f797fd0671cf"
      }
     },
     "metadata": {}
    }
   ],
   "source": [
    "items = [widgets.Label(str(i)) for i in range(4)]\n",
    "widgets.Box(items)"
   ]
  },
  {
   "cell_type": "markdown",
   "metadata": {},
   "source": [
    "### `HBox`"
   ]
  },
  {
   "cell_type": "code",
   "execution_count": 74,
   "metadata": {},
   "outputs": [
    {
     "output_type": "display_data",
     "data": {
      "text/plain": "HBox(children=(Label(value='0'), Label(value='1'), Label(value='2'), Label(value='3')))",
      "application/vnd.jupyter.widget-view+json": {
       "version_major": 2,
       "version_minor": 0,
       "model_id": "74f6eb7044ac438f92c681ac2f3c7bad"
      }
     },
     "metadata": {}
    }
   ],
   "source": [
    "items = [widgets.Label(str(i)) for i in range(4)]\n",
    "widgets.HBox(items)"
   ]
  },
  {
   "cell_type": "markdown",
   "metadata": {},
   "source": [
    "### `VBox`"
   ]
  },
  {
   "cell_type": "code",
   "execution_count": 75,
   "metadata": {},
   "outputs": [
    {
     "output_type": "display_data",
     "data": {
      "text/plain": "HBox(children=(VBox(children=(Label(value='0'), Label(value='1'))), VBox(children=(Label(value='2'), Label(val…",
      "application/vnd.jupyter.widget-view+json": {
       "version_major": 2,
       "version_minor": 0,
       "model_id": "6a7c47b9ebd849d78f57658741e15e74"
      }
     },
     "metadata": {}
    }
   ],
   "source": [
    "items = [widgets.Label(str(i)) for i in range(4)]\n",
    "left_box = widgets.VBox([items[0], items[1]])\n",
    "right_box = widgets.VBox([items[2], items[3]])\n",
    "widgets.HBox([left_box, right_box])"
   ]
  },
  {
   "cell_type": "markdown",
   "metadata": {},
   "source": [
    "### `GridBox`\n",
    "\n",
    "该框使用 HTML Grid 规范在二维网格中布局其子框。下面的示例在 3 列中列出了 8 个项目，以及容纳项目所需的行数。"
   ]
  },
  {
   "cell_type": "code",
   "execution_count": 76,
   "metadata": {},
   "outputs": [
    {
     "output_type": "display_data",
     "data": {
      "text/plain": "GridBox(children=(Label(value='0'), Label(value='1'), Label(value='2'), Label(value='3'), Label(value='4'), La…",
      "application/vnd.jupyter.widget-view+json": {
       "version_major": 2,
       "version_minor": 0,
       "model_id": "fc1d2b2f9e7640628e038b87314267eb"
      }
     },
     "metadata": {}
    }
   ],
   "source": [
    "items = [widgets.Label(str(i)) for i in range(8)]\n",
    "widgets.GridBox(items, \n",
    "                layout=widgets.Layout(grid_template_columns=\"repeat(3, 100px)\"))"
   ]
  },
  {
   "cell_type": "markdown",
   "metadata": {},
   "source": [
    "### `Accordion`"
   ]
  },
  {
   "cell_type": "code",
   "execution_count": 77,
   "metadata": {},
   "outputs": [
    {
     "output_type": "display_data",
     "data": {
      "text/plain": "Accordion(children=(IntSlider(value=0), Text(value='')), _titles={'0': 'Slider', '1': 'Text'})",
      "application/vnd.jupyter.widget-view+json": {
       "version_major": 2,
       "version_minor": 0,
       "model_id": "dfb0579ea314427bb030a09c6ae17ec5"
      }
     },
     "metadata": {}
    }
   ],
   "source": [
    "name = ['Slider', 'Text']\n",
    "accordion = widgets.Accordion(children=[widgets.IntSlider(),\n",
    "                                        widgets.Text()])\n",
    "[accordion.set_title(k, name) for k, name in enumerate(name)]\n",
    "\n",
    "accordion"
   ]
  },
  {
   "cell_type": "markdown",
   "metadata": {},
   "source": [
    "### `Tabs`\n",
    "\n",
    "在本例中，子选项卡是在创建后设置的。选项卡的标题的设置方式与 `Accordion` 相同。"
   ]
  },
  {
   "cell_type": "code",
   "execution_count": 78,
   "metadata": {},
   "outputs": [
    {
     "output_type": "display_data",
     "data": {
      "text/plain": "Tab(children=(Text(value='', description='P0'), Text(value='', description='P1'), Text(value='', description='…",
      "application/vnd.jupyter.widget-view+json": {
       "version_major": 2,
       "version_minor": 0,
       "model_id": "10d2520114cb41e69d95d5e98ac46579"
      }
     },
     "metadata": {}
    }
   ],
   "source": [
    "tab_contents = ['P0', 'P1', 'P2', 'P3', 'P4']\n",
    "children = [widgets.Text(description=name) for name in tab_contents]\n",
    "tab = widgets.Tab()\n",
    "tab.children = children\n",
    "[tab.set_title(i, f\"tab_{i}\") for i in range(len(children))]\n",
    "tab"
   ]
  },
  {
   "cell_type": "markdown",
   "metadata": {},
   "source": [
    "### `Stacked`\n",
    "\n",
    "`Stacked` 小部件可以像 `Tab` 和 `Accordion` 一样有多个子部件，但每次只显示一个，这取决于 `selected_index` 的值:\n",
    "\n",
    "```python\n",
    "button = widgets.Button(description='Click here')\n",
    "slider = widgets.IntSlider()\n",
    "stacked = widgets.Stacked([button, slider])\n",
    "stacked  # will show only the button\n",
    "```\n",
    "\n",
    "这可以与另一个基于选择的小部件结合使用，根据选择显示不同的小部件：\n",
    "\n",
    "```python\n",
    "dropdown = widgets.Dropdown(options=['button', 'slider'])\n",
    "widgets.jslink((dropdown, 'index'), (stacked, 'selected_index'))\n",
    "widgets.VBox([dropdown, stacked])\n",
    "```\n",
    "\n",
    "### `Accordion`, `Tab` 和 `Stacked` 使用 `selected_index`，而不是 `value`\n",
    "\n",
    "与前面讨论的其他小部件不同，容器小部件 `Accordion` 和 `Tab` 在用户更改选中哪个 `accordion` 或选项卡时更新它们的 `selected_index` 属性。\n",
    "\n",
    "设置 `selected_index = None` 关闭所有 `accordion` 或取消选择所有选项卡。\n",
    "\n",
    "在下面的单元格中，尝试显示或设置选项卡和/或 `accordion` 的 `selected_index`。"
   ]
  },
  {
   "cell_type": "code",
   "execution_count": 79,
   "metadata": {},
   "outputs": [],
   "source": [
    "tab.selected_index = 3\n",
    "accordion.selected_index = None"
   ]
  },
  {
   "source": [
    "### 嵌套选项卡和 accordions\n",
    "\n",
    "选项卡和 accordions 可以嵌套到您想要的深度。如果您有几分钟的时间，可以尝试嵌套一些 accordion，或将 accordion 放在一个标签或一个标签中  accordion。\n",
    "\n",
    "下面的示例创建了两个选项卡，其中一个选项卡中有一个 cordion 子选项卡："
   ],
   "cell_type": "markdown",
   "metadata": {}
  },
  {
   "cell_type": "code",
   "execution_count": 80,
   "metadata": {},
   "outputs": [
    {
     "output_type": "display_data",
     "data": {
      "text/plain": "Tab(children=(Accordion(children=(IntSlider(value=0), Text(value='')), selected_index=None, _titles={'0': 'Sli…",
      "application/vnd.jupyter.widget-view+json": {
       "version_major": 2,
       "version_minor": 0,
       "model_id": "d7a3c3ae099c4c9bbad4cea49d3480ea"
      }
     },
     "metadata": {}
    }
   ],
   "source": [
    "names = ('An accordion', 'Copy of the accordion')\n",
    "\n",
    "tab_nest = widgets.Tab()\n",
    "tab_nest.children = [accordion, accordion]\n",
    "[tab_nest.set_title(k, name) for k, name in enumerate(names)]\n",
    "tab_nest"
   ]
  },
  {
   "cell_type": "code",
   "execution_count": null,
   "metadata": {},
   "outputs": [],
   "source": []
  }
 ],
 "metadata": {
  "interpreter": {
   "hash": "7621daa449cfb4b339ccd389587967b5ff727f4c725360f7cd8300652790f802"
  },
  "kernelspec": {
   "display_name": "ai",
   "language": "python",
   "name": "ai"
  },
  "language_info": {
   "codemirror_mode": {
    "name": "ipython",
    "version": 3
   },
   "file_extension": ".py",
   "mimetype": "text/x-python",
   "name": "python",
   "nbconvert_exporter": "python",
   "pygments_lexer": "ipython3",
   "version": "3.8.10"
  },
  "nbTranslate": {
   "displayLangs": [
    "*"
   ],
   "hotkey": "alt-t",
   "langInMainMenu": true,
   "sourceLang": "en",
   "targetLang": "fr",
   "useGoogleTranslate": true
  }
 },
 "nbformat": 4,
 "nbformat_minor": 2
}