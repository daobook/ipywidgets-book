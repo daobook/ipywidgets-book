{
 "cells": [
  {
   "cell_type": "markdown",
   "metadata": {},
   "source": [
    "(jupyter:output-widget)=\n",
    "# Output 小部件\n",
    "\n",
    "参考 [examples/Output Widget.ipynb](https://github.com/jupyter-widgets/ipywidgets/blob/8.0.0a4/docs/source/examples/Output%20Widget.ipynb)"
   ]
  },
  {
   "cell_type": "code",
   "execution_count": 1,
   "metadata": {},
   "outputs": [],
   "source": [
    "import ipywidgets as widgets"
   ]
  },
  {
   "cell_type": "markdown",
   "metadata": {},
   "source": [
    "`Output` 小部件可以捕获和显示 stdout、stderr 和 [IPython 生成的丰富输出](http://ipython.readthedocs.io/en/stable/api/generated/IPython.display.html#module-IPython.display)。还可以直接将输出附加到输出小部件，或通过编程方式清除输出。"
   ]
  },
  {
   "cell_type": "code",
   "execution_count": 2,
   "metadata": {},
   "outputs": [
    {
     "output_type": "display_data",
     "data": {
      "text/plain": "Output(layout=Layout(border='5px solid blue'))",
      "application/vnd.jupyter.widget-view+json": {
       "version_major": 2,
       "version_minor": 0,
       "model_id": "af1163d5f6354367ba2f88f268b6342d"
      }
     },
     "metadata": {}
    }
   ],
   "source": [
    "out = widgets.Output(layout={'border': '5px solid blue'})\n",
    "out"
   ]
  },
  {
   "cell_type": "markdown",
   "metadata": {},
   "source": [
    "创建小部件后，使用上下文管理器将输出直接输出到它。你可以打印文本到输出区域："
   ]
  },
  {
   "cell_type": "code",
   "execution_count": 3,
   "metadata": {},
   "outputs": [
    {
     "output_type": "display_data",
     "data": {
      "text/plain": "Output(layout=Layout(border='5px solid blue'))",
      "application/vnd.jupyter.widget-view+json": {
       "version_major": 2,
       "version_minor": 0,
       "model_id": "dce56d01fd3143fa8ec317cc876d7497"
      }
     },
     "metadata": {}
    }
   ],
   "source": [
    "out = widgets.Output(layout={'border': '5px solid blue'})\n",
    "\n",
    "with out:\n",
    "    for i in range(10):\n",
    "        print(i, 'Hello world!')\n",
    "out"
   ]
  },
  {
   "cell_type": "markdown",
   "metadata": {},
   "source": [
    "富文本的输出也可以被定向到输出区域。任何在 Jupyter 笔记本中显示得很好的东西在 `Output` 小部件中也会显示得很好。\n",
    "\n",
    "```python\n",
    "from IPython.display import YouTubeVideo\n",
    "out = widgets.Output(layout={'border': '5px solid blue'})\n",
    "with out:\n",
    "    display(YouTubeVideo('eWzY2nGfkXk'))\n",
    "```"
   ]
  },
  {
   "cell_type": "markdown",
   "metadata": {},
   "source": [
    "我们甚至可以在输出小部件中显示复杂的 mimetype，比如嵌套的小部件。"
   ]
  },
  {
   "cell_type": "code",
   "execution_count": 4,
   "metadata": {},
   "outputs": [
    {
     "output_type": "display_data",
     "data": {
      "text/plain": "Output(layout=Layout(border='5px solid blue'))",
      "application/vnd.jupyter.widget-view+json": {
       "version_major": 2,
       "version_minor": 0,
       "model_id": "33cb3bafe58a4dc79bdb862a7fd30c96"
      }
     },
     "metadata": {}
    }
   ],
   "source": [
    "out = widgets.Output(layout={'border': '5px solid blue'})\n",
    "with out:\n",
    "    display(widgets.IntSlider())\n",
    "out"
   ]
  },
  {
   "cell_type": "markdown",
   "metadata": {},
   "source": [
    "我们还可以使用方便的方法 `append_stdout`、`append_stderr` 或 `append_display_data` 直接将输出附加到输出小部件。\n",
    "\n",
    "```python\n",
    "out = widgets.Output(layout={'border': '1px solid black'})\n",
    "out.append_stdout('Output appended with append_stdout')\n",
    "out.append_display_data(YouTubeVideo('eWzY2nGfkXk'))\n",
    "out\n",
    "```"
   ]
  },
  {
   "cell_type": "markdown",
   "metadata": {},
   "source": [
    "可以通过在上下文管理器中使用 `IPython.display.clear_output` 来清除输出，或者直接调用小部件的 `clear_output` 方法。\n",
    "\n",
    "```python\n",
    "out.clear_output()\n",
    "```\n",
    "\n",
    "`clear_output` 支持关键字参数 `wait`。如果将此设置为 `True`，则小部件内容不会立即清除。相反，它们将在小部件下次接收到要显示的内容时清除。这在替换输出小部件中的内容时很有用：它通过避免调用 `clear_output` 后小部件的不和谐的大小调整来实现更平滑的转换。\n",
    "\n",
    "最后，我们可以使用输出小部件来捕获使用 `capture` 装饰器的函数产生的所有输出。\n",
    "\n",
    "```python\n",
    "@out.capture()\n",
    "def function_with_captured_output():\n",
    "    print('This goes into the output widget')\n",
    "    raise Exception('As does this')\n",
    "\n",
    "function_with_captured_output()\n",
    "```\n",
    "\n",
    "`out.capture` 支持关键字参数 `clear_output`。将此设置为 `True` 将在每次调用函数时清除输出小部件，以便您只能看到上次调用的输出。如果 `clear_output` 设置为 `True`，您还可以传递一个 `wait=True` 参数，仅在新输出可用时清除输出。当然，您也可以在任何时候手动清除输出。\n",
    "\n",
    "```python\n",
    "out.clear_output()\n",
    "```\n",
    "\n",
    "## `Output` 小部件作为交互的基础\n",
    "\n",
    "`Output` 小部件构成了如何实现交互和相关方法的基础。它本身也可以用来创建带有小部件和代码输出的富布局。定制交互 UI 外观的一种简单方法是使用 `interactive_output` 函数将控件与返回的输出小部件中捕获其输出的函数挂钩。在下一个示例中，我们垂直地堆叠控件，然后将函数的输出放在右边。"
   ]
  },
  {
   "cell_type": "code",
   "execution_count": 5,
   "metadata": {},
   "outputs": [
    {
     "output_type": "display_data",
     "data": {
      "text/plain": "HBox(children=(VBox(children=(IntSlider(value=0, description='a'), IntSlider(value=0, description='b'), IntSli…",
      "application/vnd.jupyter.widget-view+json": {
       "version_major": 2,
       "version_minor": 0,
       "model_id": "8347e8a864ea4d3586351c2aaae2b685"
      }
     },
     "metadata": {}
    }
   ],
   "source": [
    "a = widgets.IntSlider(description='a')\n",
    "b = widgets.IntSlider(description='b')\n",
    "c = widgets.IntSlider(description='c')\n",
    "def f(a, b, c):\n",
    "    print('{}*{}*{}={}'.format(a, b, c, a*b*c))\n",
    "\n",
    "out = widgets.interactive_output(f, {'a': a, 'b': b, 'c': c})\n",
    "\n",
    "widgets.HBox([widgets.VBox([a, b, c]), out])"
   ]
  },
  {
   "cell_type": "markdown",
   "metadata": {},
   "source": [
    "## 使用输出小部件调试回调中的错误\n",
    "\n",
    "在某些平台上，如 JupyterLab，小部件回调生成的输出（例如，附加在小部件特性上的 `.observe` 方法上的函数，或附加在按钮小部件上的 `.on_click` 方法上的函数）不会显示在任何地方。即使在其他平台上，也不清楚该输出应该显示在哪个单元格中。这使得调试回调函数中的错误更加困难。\n",
    "\n",
    "访问小部件回调输出的一个有效工具是使用输出小部件的捕获方法装饰回调。然后，您可以在一个新的单元格中显示小部件，以查看回调输出。"
   ]
  },
  {
   "cell_type": "code",
   "execution_count": 6,
   "metadata": {},
   "outputs": [
    {
     "output_type": "display_data",
     "data": {
      "text/plain": "Button(description='click me to raise an exception', layout=Layout(width='300px'), style=ButtonStyle())",
      "application/vnd.jupyter.widget-view+json": {
       "version_major": 2,
       "version_minor": 0,
       "model_id": "01a8b97791484f2cba399538067c00bc"
      }
     },
     "metadata": {}
    }
   ],
   "source": [
    "debug_view = widgets.Output(layout={'border': '1px solid black'})\n",
    "\n",
    "@debug_view.capture(clear_output=True)\n",
    "def bad_callback(event):\n",
    "    print('This is about to explode')\n",
    "    return 1.0 / 0.0\n",
    "\n",
    "button = widgets.Button(\n",
    "    description='click me to raise an exception',\n",
    "    layout={'width': '300px'}\n",
    ")\n",
    "button.on_click(bad_callback)\n",
    "button"
   ]
  },
  {
   "cell_type": "code",
   "execution_count": 7,
   "metadata": {},
   "outputs": [
    {
     "output_type": "display_data",
     "data": {
      "text/plain": "Output(layout=Layout(border='1px solid black'))",
      "application/vnd.jupyter.widget-view+json": {
       "version_major": 2,
       "version_minor": 0,
       "model_id": "d1e48ced99a54747a68f3b35a932e031"
      }
     },
     "metadata": {}
    }
   ],
   "source": [
    "debug_view"
   ]
  },
  {
   "cell_type": "markdown",
   "metadata": {},
   "source": [
    "## 将输出小部件与日志模块集成\n",
    "\n",
    "虽然使用 `.capture` 装饰器可以很好地理解和调试单个回调，但它不能扩展到更大的应用程序。通常，在较大的应用程序中，可以使用 [logging](https://docs.python.org/3/library/logging.html) 模块打印有关程序状态的信息。然而，在小部件应用程序中，日志输出的去向并不清楚。\n",
    "\n",
    "一个有用的模式是创建一个自定义 [handler](https://docs.python.org/3/library/logging.html#handler-objects) 程序，将日志重定向到输出小部件。然后，输出小部件可以显示在一个新的单元格中，以便在应用程序运行时监视它。"
   ]
  },
  {
   "cell_type": "code",
   "execution_count": 8,
   "metadata": {},
   "outputs": [],
   "source": [
    "import ipywidgets as widgets\n",
    "import logging\n",
    "\n",
    "class OutputWidgetHandler(logging.Handler):\n",
    "    \"\"\" Custom logging handler sending logs to an output widget \"\"\"\n",
    "\n",
    "    def __init__(self, *args, **kwargs):\n",
    "        super(OutputWidgetHandler, self).__init__(*args, **kwargs)\n",
    "        layout = {\n",
    "            'width': '100%',\n",
    "            'height': '160px',\n",
    "            'border': '1px solid black'\n",
    "        }\n",
    "        self.out = widgets.Output(layout=layout)\n",
    "\n",
    "    def emit(self, record):\n",
    "        \"\"\" Overload of logging.Handler method \"\"\"\n",
    "        formatted_record = self.format(record)\n",
    "        new_output = {\n",
    "            'name': 'stdout',\n",
    "            'output_type': 'stream',\n",
    "            'text': formatted_record+'\\n'\n",
    "        }\n",
    "        self.out.outputs = (new_output, ) + self.out.outputs\n",
    "\n",
    "    def show_logs(self):\n",
    "        \"\"\" Show the logs \"\"\"\n",
    "        display(self.out)\n",
    "\n",
    "    def clear_logs(self):\n",
    "        \"\"\" Clear the current logs \"\"\"\n",
    "        self.out.clear_output()\n",
    "\n",
    "\n",
    "logger = logging.getLogger(__name__)\n",
    "handler = OutputWidgetHandler()\n",
    "handler.setFormatter(logging.Formatter('%(asctime)s  - [%(levelname)s] %(message)s'))\n",
    "logger.addHandler(handler)\n",
    "logger.setLevel(logging.INFO)"
   ]
  },
  {
   "cell_type": "code",
   "execution_count": 9,
   "metadata": {},
   "outputs": [
    {
     "output_type": "display_data",
     "data": {
      "text/plain": "Output(layout=Layout(border='1px solid black', height='160px', width='100%'))",
      "application/vnd.jupyter.widget-view+json": {
       "version_major": 2,
       "version_minor": 0,
       "model_id": "fbca93dff4c44d05957c3ff4cbd4329f"
      }
     },
     "metadata": {}
    }
   ],
   "source": [
    "handler.show_logs()"
   ]
  },
  {
   "cell_type": "code",
   "execution_count": 10,
   "metadata": {},
   "outputs": [],
   "source": [
    "handler.clear_logs()\n",
    "logger.info('Starting program')\n",
    "\n",
    "try:\n",
    "    logger.info('About to try something dangerous...')\n",
    "    1.0/0.0\n",
    "except Exception as e:\n",
    "    logger.exception('An error occurred!')"
   ]
  },
  {
   "cell_type": "markdown",
   "metadata": {},
   "source": [
    "## 与后台线程的输出小部件交互\n",
    "\n",
    "当显示后台线程产生的输出时，Jupyter 的显示机制可能是反直觉的。后台线程的输出被打印到主线程当前正在写的单元格中。要直接看到这一点，创建一个重复打印到标准输出的线程："
   ]
  },
  {
   "cell_type": "code",
   "execution_count": 11,
   "metadata": {},
   "outputs": [],
   "source": [
    "import threading\n",
    "import itertools\n",
    "import time\n",
    "\n",
    "def run():\n",
    "    for i in itertools.count(0):\n",
    "        time.sleep(1)\n",
    "        print('output from background {}'.format(i))\n",
    "\n",
    "t = threading.Thread(target=run)\n",
    "t.start()"
   ]
  },
  {
   "cell_type": "markdown",
   "metadata": {},
   "source": [
    "它总是在当前活动的单元格中打印，而不是在启动后台线程的单元格中。\n",
    "\n",
    "这可能导致输出小部件出现令人惊讶的行为。在输出小部件捕获输出的期间，在笔记本中生成的任何输出（无论线程是什么）都将进入输出小部件。\n",
    "\n",
    "避免意外的最佳方法是永远不要在有多个线程生成输出的上下文中使用输出小部件的上下文管理器。相反，我们可以将输出小部件传递给在线程中执行的函数，并使用 `append_display_data()`、`append_stdout()` 或 `append_stderr()` 方法将可显示的输出附加到输出小部件。"
   ]
  },
  {
   "cell_type": "code",
   "execution_count": 12,
   "metadata": {},
   "outputs": [
    {
     "output_type": "display_data",
     "data": {
      "text/plain": "'Display in main thread'"
     },
     "metadata": {}
    },
    {
     "output_type": "display_data",
     "data": {
      "text/plain": "Output()",
      "application/vnd.jupyter.widget-view+json": {
       "version_major": 2,
       "version_minor": 0,
       "model_id": "5f91d6e84b294b29bfc91ff329ae6506"
      }
     },
     "metadata": {}
    }
   ],
   "source": [
    "import threading\n",
    "from IPython.display import display, HTML\n",
    "import ipywidgets as widgets\n",
    "import time\n",
    "\n",
    "def thread_func(something, out):\n",
    "    for i in range(1, 5):\n",
    "        time.sleep(0.3)\n",
    "        out.append_stdout('{} {} {}\\n'.format(i, '**'*i, something))\n",
    "    out.append_display_data(HTML(\"<em>All done!</em>\"))\n",
    "\n",
    "display('Display in main thread')\n",
    "out = widgets.Output()\n",
    "# Now the key: the container is displayed (while empty) in the main thread\n",
    "display(out)\n",
    "\n",
    "thread = threading.Thread(\n",
    "    target=thread_func,\n",
    "    args=(\"some text\", out))\n",
    "thread.start()"
   ]
  },
  {
   "cell_type": "code",
   "execution_count": 13,
   "metadata": {},
   "outputs": [
    {
     "output_type": "stream",
     "name": "stdout",
     "text": [
      "output from background 0\n",
      "output from background 1\n"
     ]
    }
   ],
   "source": [
    "thread.join()"
   ]
  }
 ],
 "metadata": {
  "interpreter": {
   "hash": "91729c9a28b52734f57b710b306c58b64be9d1e1e07c58fcc763d6d7bdf51c2c"
  },
  "kernelspec": {
   "display_name": "ai",
   "language": "python",
   "name": "ai"
  },
  "language_info": {
   "codemirror_mode": {
    "name": "ipython",
    "version": 3
   },
   "file_extension": ".py",
   "mimetype": "text/x-python",
   "name": "python",
   "nbconvert_exporter": "python",
   "pygments_lexer": "ipython3",
   "version": "3.8.10"
  },
  "nbTranslate": {
   "displayLangs": [
    "*"
   ],
   "hotkey": "alt-t",
   "langInMainMenu": true,
   "sourceLang": "en",
   "targetLang": "fr",
   "useGoogleTranslate": true
  }
 },
 "nbformat": 4,
 "nbformat_minor": 2
}