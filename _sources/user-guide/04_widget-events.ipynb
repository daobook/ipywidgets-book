{
 "cells": [
  {
   "cell_type": "markdown",
   "metadata": {},
   "source": [
    "(jupyter:widget-events)=\n",
    "# 小部件事件\n",
    "\n",
    "## 特殊事件\n",
    "\n",
    "`Button` 不用于表示数据类型。相反，按钮小部件用于处理鼠标单击。：`Button` 的 `on_click` 方法可用于注册当单击按钮时要调用的函数。`on_click` 的文档字符串如下所示。"
   ]
  },
  {
   "cell_type": "code",
   "execution_count": 1,
   "metadata": {},
   "outputs": [
    {
     "output_type": "stream",
     "name": "stdout",
     "text": [
      "Register a callback to execute when the button is clicked.\n\n        The callback will be called with one argument, the clicked button\n        widget instance.\n\n        Parameters\n        ----------\n        remove: bool (optional)\n            Set to true to remove the callback from the list of callbacks.\n        \n"
     ]
    }
   ],
   "source": [
    "import ipywidgets as widgets\n",
    "print(widgets.Button.on_click.__doc__)"
   ]
  },
  {
   "source": [
    "### 例子\n",
    "\n",
    "由于按钮单击是无状态的，它们使用自定义消息从前端传输到后端。通过使用 `on_click` 方法，下面将显示一个按钮，该按钮在被单击时打印一条消息。要捕获打印（或任何其他类型的输出）并确保它被显示，请确保将其发送到 `Output` 小部件（或将您想要显示的信息放到 `HTML` 小部件中）。"
   ],
   "cell_type": "markdown",
   "metadata": {}
  },
  {
   "cell_type": "code",
   "execution_count": 6,
   "metadata": {},
   "outputs": [
    {
     "output_type": "display_data",
     "data": {
      "text/plain": "Button(description='Click Me!', style=ButtonStyle())",
      "application/vnd.jupyter.widget-view+json": {
       "version_major": 2,
       "version_minor": 0,
       "model_id": "5984a58c4cfa4ad08e591c42eccdc775"
      }
     },
     "metadata": {}
    },
    {
     "output_type": "display_data",
     "data": {
      "text/plain": "Output()",
      "application/vnd.jupyter.widget-view+json": {
       "version_major": 2,
       "version_minor": 0,
       "model_id": "15211e25e8f54b1b918df5b968b817f9"
      }
     },
     "metadata": {}
    }
   ],
   "source": [
    "from IPython.display import display\n",
    "button = widgets.Button(description=\"Click Me!\")\n",
    "output = widgets.Output()\n",
    "\n",
    "display(button, output)\n",
    "\n",
    "def on_button_clicked(b):\n",
    "    with output:\n",
    "        print(\"Button clicked.\")\n",
    "\n",
    "button.on_click(on_button_clicked, remove=False)"
   ]
  },
  {
   "cell_type": "code",
   "execution_count": null,
   "metadata": {},
   "outputs": [],
   "source": [
    "## Traitlet 事件"
   ]
  }
 ],
 "metadata": {
  "interpreter": {
   "hash": "7621daa449cfb4b339ccd389587967b5ff727f4c725360f7cd8300652790f802"
  },
  "kernelspec": {
   "name": "ai",
   "display_name": "Python 3.8.10 64-bit ('ai': conda)"
  },
  "language_info": {
   "name": "python",
   "version": "3.8.10"
  },
  "orig_nbformat": 4
 },
 "nbformat": 4,
 "nbformat_minor": 2
}